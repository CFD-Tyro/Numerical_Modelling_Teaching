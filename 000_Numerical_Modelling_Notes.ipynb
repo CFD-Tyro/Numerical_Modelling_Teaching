{
  "nbformat": 4,
  "nbformat_minor": 0,
  "metadata": {
    "colab": {
      "name": "000_Numerical_Modelling_Notes.ipynb",
      "provenance": [],
      "collapsed_sections": [],
      "authorship_tag": "ABX9TyPqv++XQJJwMbJgxPMTIXBo",
      "include_colab_link": true
    },
    "kernelspec": {
      "name": "python3",
      "display_name": "Python 3"
    },
    "language_info": {
      "name": "python"
    }
  },
  "cells": [
    {
      "cell_type": "markdown",
      "metadata": {
        "id": "view-in-github",
        "colab_type": "text"
      },
      "source": [
        "<a href=\"https://colab.research.google.com/github/JunOu/Numerical_Modelling_Teaching/blob/main/000_Numerical_Modelling_Notes.ipynb\" target=\"_parent\"><img src=\"https://colab.research.google.com/assets/colab-badge.svg\" alt=\"Open In Colab\"/></a>"
      ]
    },
    {
      "cell_type": "markdown",
      "metadata": {
        "id": "3dZ9lZJ3fUlf"
      },
      "source": [
        "# Numerical Modelling of Materials Processing\n",
        "\n",
        "Author: Jun Ou at jun.ou@ubc.ca\n",
        "\n",
        "This is a collection of notebooks for introducing the theory of transport phenomena, including heat, mass and momentum transport, and the numerical methods for modelling those processes. \n"
      ]
    },
    {
      "cell_type": "markdown",
      "source": [
        "## Basic Theory of Transport Phenomena\n",
        "\n",
        "* Introduction [Link](https://colab.research.google.com/drive/1WQVGcf0D7E_AKM05OtoGUbVewcaeLblM)\n",
        "\n",
        "* Development of the Navier-Stokes Equations\n",
        "\n",
        "  * Transport of Mass (Conitnuity) and Mass Species  [Link](https://colab.research.google.com/drive/1vQef65D-qOTsuRG0t7ephjTSfqdeUzyr)\n",
        "\n",
        "  * Transport of Energy (Heat Transfer) [Link](https://colab.research.google.com/drive/1Db34eXxaUIQbTNsIO1n4elU1MvfShQOU)\n",
        "\n",
        "  * Transport of Momentum (Fluid Flow) [Link](https://colab.research.google.com/drive/100B55rnRL4eFpbylKxb1omD0bSDYcobi)\n",
        "\n",
        "  * Transient and Steady State Form of the Navier-Stokes Equations [Link](https://colab.research.google.com/drive/1RUcwaSgyH8F8EfycPoSiX7LiBcREpndm)"
      ],
      "metadata": {
        "id": "qwhjebiPgWO3"
      }
    },
    {
      "cell_type": "markdown",
      "source": [
        "## Mathematical Analysis \n",
        "\n",
        "Three approaches are often used for mathematical analysis of transport phenomena, which are:\n",
        "\n",
        "* Emperical Correlations [Link](https://colab.research.google.com/drive/19JugacvS78j5N1QcaQIrVzvFDTXhfG5n)\n",
        "\n",
        "* Aanalytical Solutions\n",
        "  \n",
        "  * Theory [Link](https://colab.research.google.com/drive/1Zgukjn0WjUEj5SWIHbLa9ENlZMo6F2cK)\n",
        "  \n",
        "  * Code (Blasius boundary layer) [Link](https://colab.research.google.com/drive/15Kdb2_gFSo8yER2DYoKfxcXd3sNIjNyM)\n",
        "\n",
        "* Numerical Methods - the next section\n",
        "\n",
        "*The latter two are based on the solutions to the Navier-Stokes equations, whereas the first is based on empirical observations and/or measurements as its name implies.*"
      ],
      "metadata": {
        "id": "R0CwtWG1GIjK"
      }
    },
    {
      "cell_type": "markdown",
      "source": [
        "## Numerical Modelling Methods\n",
        "\n",
        "Numerical methods can approximately solve the Navier-Stokes equations over a broad range of conditions, but can be computationally intensive. The range and complexity of the problems that can be tackled has greatly expanded over the last several decades in step with increases in the availability of significant computational resources.\n",
        "\n",
        "The primary numerical methods include Finite Difference Method (FDM), Finite Element Method (FEM) and Finite Volume Method (FVM).\n",
        "\n",
        "**Eulerian method** \n",
        "\n",
        "* Finite Difference Method \n",
        "  \n",
        "  * Theory [Link](https://colab.research.google.com/drive/112RwVrrQUIItYmzv7BMe4c5r8hFhdmMM)\n",
        "\n",
        "  * Examples \n",
        "    \n",
        "    * 1D heat conduction (with and without interface, different boundary conditions) [Link](https://colab.research.google.com/drive/1docL8hKTHyn9Ow9HNYrT4hLObtJrDUTR)\n",
        "    * 2D heat condution [Link](https://colab.research.google.com/drive/1XEMcyHqGkkQARuc5fW9p4KKtamaKesvO)\n",
        "    * 2D coupled thermal and fluid flow [Link](https://colab.research.google.com/drive/1HnrENvh5kGBENHAhMdWLi0u7brJg-UR8)\n",
        "\n",
        "* Finite Volume Method \n",
        "  \n",
        "  * Theory [Link](https://colab.research.google.com/drive/1x-QwuHDdZmNLk35W9r0kuLln7kJ6Wk8U)\n",
        "\n",
        "  * Examples (1D heat diffusion and convection) [Link](https://colab.research.google.com/drive/1ikqKNYWMmte9UCA3lIDttXAMG1n3O1LT)\n",
        "  \n",
        "* Finite Eelement Method (in progress)\n",
        "  \n",
        "  * Theory [Link - in progress](https://colab.research.google.com/drive/1gLBFfKy1WuqCrukRaVFdjbm5un_EQiqs)\n",
        "\n",
        "  * Examples [Link]\n",
        "\n",
        "**Lagrangian method**\n",
        "\n",
        "* A simple example - Mass-Spring system [Link](https://colab.research.google.com/drive/1EoHBFJBuDakiq_amn-YodX2f0iDeVg1V)"
      ],
      "metadata": {
        "id": "wB8dOdSeu5_o"
      }
    },
    {
      "cell_type": "markdown",
      "source": [
        "## Miscellaneous\n",
        "\n",
        "* Basics of Python and Jupyter Notebook [Link](https://colab.research.google.com/drive/1p4_B33Aqqv5Ve_X1SFJr8d6evP7al-iz)\n",
        "\n",
        "* Interpolation (Linear and Lagrange) [Link](https://colab.research.google.com/drive/1Xu0wOcAb7d2oZUDByEW5hQbDLYQXmfam)\n",
        "\n",
        "* Regression\n",
        "\n",
        "  * Linear (analytical) [Link](https://colab.research.google.com/drive/1L2LTSqc3z3jyl4yUmo_S_xJaus4GWAl0)\n",
        "\n",
        "  * Linear (machine learning) [Link](https://colab.research.google.com/drive/15ZqIaEFvB0Bpvya5101EBzS051MOTxzi)\n",
        "\n",
        "* Iterative Solver (Newton's Method) [Link](https://colab.research.google.com/drive/1YscjdQo7wbj8nCeiJBjeH7Rsn85w5fzQ)"
      ],
      "metadata": {
        "id": "gsQ5H6dMxmRM"
      }
    }
  ]
}
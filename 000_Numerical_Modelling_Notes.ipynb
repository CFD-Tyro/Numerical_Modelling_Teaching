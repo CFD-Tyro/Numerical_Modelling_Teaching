{
  "nbformat": 4,
  "nbformat_minor": 0,
  "metadata": {
    "colab": {
      "name": "000_Numerical_Modelling_Notes.ipynb",
      "provenance": [],
      "collapsed_sections": [],
      "authorship_tag": "ABX9TyMs4pyH0Uhgyk8tvu0x04O6",
      "include_colab_link": true
    },
    "kernelspec": {
      "name": "python3",
      "display_name": "Python 3"
    },
    "language_info": {
      "name": "python"
    }
  },
  "cells": [
    {
      "cell_type": "markdown",
      "metadata": {
        "id": "view-in-github",
        "colab_type": "text"
      },
      "source": [
        "<a href=\"https://colab.research.google.com/github/JunOu/Numerical_Modelling_Teaching/blob/main/000_Numerical_Modelling_Notes.ipynb\" target=\"_parent\"><img src=\"https://colab.research.google.com/assets/colab-badge.svg\" alt=\"Open In Colab\"/></a>"
      ]
    },
    {
      "cell_type": "markdown",
      "metadata": {
        "id": "3dZ9lZJ3fUlf"
      },
      "source": [
        "# A collection of notebooks\n",
        "\n",
        "Jun Ou at jun.ou@ubc.ca\n",
        "\n",
        "This is a collection of notebooks aimed at supporting readers to develop a basic understanding of heat, mass and momentum transport and basic skills to develop the models in those transport phenomena. \n",
        "\n",
        "_Some examples are based on Steve's course materials are used and confirmed open access_"
      ]
    },
    {
      "cell_type": "markdown",
      "metadata": {
        "id": "Q2-6a6XCe47u"
      },
      "source": [
        "* [Basics of Python and Jupyter Notebook](https://colab.research.google.com/drive/1mKUdzB3DdblMvkECGTbhxr4pH8oiklzW)\n",
        "\n",
        "* Data processing\n",
        " * [Data manipulation and visualization - $C_p$ of $\\beta$ solid titanium vs temperature](https://colab.research.google.com/drive/1ht07H1qK49ISOI98IGNBAJMzlv8YryZp)\n",
        " * [Interplolation](https://colab.research.google.com/drive/1EYj-plHMEhF-6QkdvBw_1inGUDBWNP_R)\n",
        " * Regression (Linear)\n",
        "   * [The analytical method](https://colab.research.google.com/drive/1Jr-H3qMNdNbCrkZbjnPx4RKZ8Xao5Pve)\n",
        "   * [Addition: the machine learning method](https://colab.research.google.com/drive/1-CP7UNXvQQu2Y5fmw4sN4BNZusibDUnF)\n",
        "\n",
        "* Numerical methods\n",
        " * Eulerian-Based Methods\n",
        "    * Finite Difference Method\n",
        "      * [The derivatives](https://colab.research.google.com/drive/1CTKWudpWxauEQEQjPzIkBXlFs2_OPPFZ)\n",
        "      * [Development of the Finite Difference Equations](https://colab.research.google.com/drive/1ecovXAHC9f-bt9jeVvYv8zUDfM_sPIVU)\n",
        "\n",
        "   * [Finite Element Method - to be added later]\n",
        "\n",
        "   * [Finite Volume Method - not polished](https://colab.research.google.com/drive/1WKQ9Ew9bKM4FrlakCN6rXu2Qd05iK0RK)\n",
        "\n",
        " * Lagrangian-Based Method\n",
        "   * [A simple example: the Mass-Spring system](https://colab.research.google.com/drive/1xWBurr1OQ91lZymbtKn4zv77nI0m1-Sg)\n",
        "\n",
        "* [Basic theory of Fluid Dynamics/Computational Fluid Dynamics - polishing](https://colab.research.google.com/drive/1_r25RwvdcshaEVSEPsocK3DbvnEYfsjy)\n"
      ]
    }
  ]
}
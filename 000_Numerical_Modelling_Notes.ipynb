{
  "nbformat": 4,
  "nbformat_minor": 0,
  "metadata": {
    "colab": {
      "name": "000_Numerical_Modelling_Notes.ipynb",
      "provenance": [],
      "collapsed_sections": [],
      "authorship_tag": "ABX9TyMnPeyopsDegpmAOgV8cteD",
      "include_colab_link": true
    },
    "kernelspec": {
      "name": "python3",
      "display_name": "Python 3"
    },
    "language_info": {
      "name": "python"
    }
  },
  "cells": [
    {
      "cell_type": "markdown",
      "metadata": {
        "id": "view-in-github",
        "colab_type": "text"
      },
      "source": [
        "<a href=\"https://colab.research.google.com/github/JunOu/Numerical_Modelling_Teaching/blob/main/000_Numerical_Modelling_Notes.ipynb\" target=\"_parent\"><img src=\"https://colab.research.google.com/assets/colab-badge.svg\" alt=\"Open In Colab\"/></a>"
      ]
    },
    {
      "cell_type": "markdown",
      "metadata": {
        "id": "3dZ9lZJ3fUlf"
      },
      "source": [
        "# Numerical Modelling of Materials Processing\n",
        "\n",
        "Author: Jun Ou at jun.ou@ubc.ca\n",
        "\n",
        "This is a collection of notebooks for introducing the theory of transport phenomena, including heat, mass and momentum transport, and the numerical methods for modelling those processes. \n"
      ]
    },
    {
      "cell_type": "markdown",
      "source": [
        "## Basic Theory of Transport Phenomena\n",
        "\n",
        "* Introduction [Link](https://colab.research.google.com/drive/1WQVGcf0D7E_AKM05OtoGUbVewcaeLblM)\n",
        "\n",
        "* Transport of Mass (Conitnuity) and Mass Species  [Link](https://colab.research.google.com/drive/1vQef65D-qOTsuRG0t7ephjTSfqdeUzyr)\n",
        "\n",
        "* Transport of Energy (Heat Transfer) [Link](https://colab.research.google.com/drive/1Db34eXxaUIQbTNsIO1n4elU1MvfShQOU)\n",
        "\n",
        "* Transport of Momentum (Fluid Flow) [Link](https://colab.research.google.com/drive/100B55rnRL4eFpbylKxb1omD0bSDYcobi)\n",
        "\n",
        "* Transient and Steady State Form of the Navier-Stokes Equations [Link](https://colab.research.google.com/drive/1RUcwaSgyH8F8EfycPoSiX7LiBcREpndm)\n",
        "\n",
        "* Mathematical Approaches for Analysis [Link](https://colab.research.google.com/drive/19JugacvS78j5N1QcaQIrVzvFDTXhfG5n)"
      ],
      "metadata": {
        "id": "qwhjebiPgWO3"
      }
    },
    {
      "cell_type": "markdown",
      "source": [
        "## Numerical Modelling Methods\n",
        "\n",
        "**Eulerian method** \n",
        "\n",
        "* Finite Difference Method \n",
        "  * Theory [Link](https://colab.research.google.com/drive/112RwVrrQUIItYmzv7BMe4c5r8hFhdmMM)\n",
        "\n",
        "  * Examples [Link](https://colab.research.google.com/drive/1docL8hKTHyn9Ow9HNYrT4hLObtJrDUTR)\n",
        "\n",
        "* Finite Volume Method \n",
        "  * Theory [Link](https://colab.research.google.com/drive/1x-QwuHDdZmNLk35W9r0kuLln7kJ6Wk8U)\n",
        "\n",
        "  * Examples [Link](https://colab.research.google.com/drive/1ikqKNYWMmte9UCA3lIDttXAMG1n3O1LT)\n",
        "  \n",
        "* Finite Eelement Method (working on it)\n",
        "  * Theory [Link]\n",
        "\n",
        "  * Examples [Link]\n",
        "\n",
        "**Lagrangian method**\n",
        "\n",
        "* A simple example - Mass-Spring system [Link](https://colab.research.google.com/drive/1EoHBFJBuDakiq_amn-YodX2f0iDeVg1V)"
      ],
      "metadata": {
        "id": "wB8dOdSeu5_o"
      }
    }
  ]
}